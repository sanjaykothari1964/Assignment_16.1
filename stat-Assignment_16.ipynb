{
 "cells": [
  {
   "cell_type": "markdown",
   "metadata": {},
   "source": [
    "# ASSIGNMENT 16"
   ]
  },
  {
   "cell_type": "code",
   "execution_count": 1,
   "metadata": {},
   "outputs": [],
   "source": [
    "import math\n",
    "from decimal import Decimal"
   ]
  },
  {
   "cell_type": "code",
   "execution_count": 2,
   "metadata": {},
   "outputs": [
    {
     "name": "stdout",
     "output_type": "stream",
     "text": [
      "The probability of answering exactly 5 questions wrongly is: 0.00000343\n"
     ]
    }
   ],
   "source": [
    "# Q1. A test is conducted which is consisting of 20 MCQs (multiple choices questions) with every MCQ having its four options \n",
    "# out of which only one is correct. Determine the probability that a person undertaking that test has answered exactly 5 question\n",
    "# wrong.\n",
    "''''SOLUTION:\n",
    "\n",
    "For a given question,\n",
    "The probability of getting an answer wrong = 3/4 (Given: Only 1 out of 4 given options is correct) \n",
    "The probability of getting a right answer =  1/4\n",
    "Total number of  questions = 20\n",
    "Desirable number of wrongly answered questions = 5\n",
    "\n",
    "According to Binomial distribution:\n",
    "\n",
    "P(x) = nCx * p^x * (1 – q)^(n – x) \n",
    "\n",
    "P(x)  \tthe probability of x successes in n independent trials\n",
    "p^x   \tthe probability of a success on each of x trials\n",
    "q^(n-x)\tthe probability of a failure on the remaining trials\n",
    "n\ttotal no.of independent trials\n",
    "x\ttotal no.of successful trials\n",
    "p\tthe probability of success in a single trial\n",
    "q\tthe probability of failure in a single trial\n",
    "\n",
    "In the given case:\n",
    "p = 3/4 \n",
    "q = 1/4 = (1-p)\n",
    "n = 20\n",
    "x = 5 '''\n",
    "\n",
    "# Using a function to find nCr\n",
    "def nCr(n,r):\n",
    "    f = math.factorial\n",
    "    return f(n) / f(r) / f(n-r)\n",
    "\n",
    "# Defining a function to find the probability using binomial distribution theorem taking p,q,n,x as the arguments\n",
    "def Bin_prob(p,q,n,x):\n",
    "    return round(Decimal(nCr(n,x)*(p)**x*(q)**(n-x)),8)\n",
    "# In the above code snippet Decimal function is used to suppress the scientific notation and rounding the same upto 8 places\n",
    "# after decimal\n",
    "\n",
    "#Assigning values to the parameters\n",
    "p = 3/4\n",
    "q = 1/4\n",
    "n = 20\n",
    "x = 5\n",
    "\n",
    "print(\"The probability of answering exactly 5 questions wrongly is:\",Bin_prob(p,q,n,x))"
   ]
  },
  {
   "cell_type": "code",
   "execution_count": 3,
   "metadata": {},
   "outputs": [
    {
     "name": "stdout",
     "output_type": "stream",
     "text": [
      "The probability of getting a “D” exactly 5 times is: 0.02953120\n"
     ]
    }
   ],
   "source": [
    "# Q2. A die marked A to E is rolled 50 times. Find the probability of getting a “D” exactly 5 times.\n",
    "\n",
    "''''SOLUTION:\n",
    "\n",
    "The probability of getting a D on a given throw = 1/5\n",
    "The probability of getting a non-D on a given throw = [1-(1/5)] = 4/5\n",
    "Total number of  trials = 50\n",
    "Desirable number of successful trials = 5\n",
    "\n",
    "According to Binomial distribution:\n",
    "\n",
    "P(x) = nCx * p^x * (1 – q)^(n – x) \n",
    "\n",
    "P(x)  \tthe probability of x successes in n independent trials\n",
    "p^x   \tthe probability of a successes on each of x trials\n",
    "q^(n-x)\tthe probability of a failure on the remaining trials\n",
    "n\ttotal no.of independent trials\n",
    "x\ttotal no.of successful trials\n",
    "p\tthe probability of success in a single trial\n",
    "q\tthe probability of failure in a single trial\n",
    "\n",
    "In the given case:\n",
    "p = 1/5\n",
    "q = 4/5\n",
    "n = 50\n",
    "x = 5 '''\n",
    "\n",
    "# Using a function to find nCr\n",
    "def nCr(n,r):\n",
    "    f = math.factorial\n",
    "    return f(n) / f(r) / f(n-r)\n",
    "\n",
    "# Defining a function to find the probability using binomial distribution theorem taking p,q,n,x as the arguments\n",
    "def Bin_prob(p,q,n,x):\n",
    "    return round(Decimal(nCr(n,x)*(p)**x*(q)**(n-x)),8)\n",
    "# In the above code snippet Decimal function is used to suppress the scientific notation and rounding the same upto 8 places\n",
    "# after decimal\n",
    "\n",
    "#Assigning values to the parameters\n",
    "p = 1/5\n",
    "q = 4/5\n",
    "n = 50\n",
    "x = 5\n",
    "\n",
    "print(\"The probability of getting a “D” exactly 5 times is:\",Bin_prob(p,q,n,x))"
   ]
  },
  {
   "cell_type": "code",
   "execution_count": 4,
   "metadata": {},
   "outputs": [
    {
     "name": "stdout",
     "output_type": "stream",
     "text": [
      "1: Probability of drawing two Red balls(RR): 0.133\n",
      "2: Probability of drawing one Red and one Black ball(RB or BR): 0.533\n",
      "3: Probability of drawing two Black balls(BB): 0.333\n",
      "\n",
      "2.1: If the balls drawn are (RB) then prob =  0.267\n",
      "2.2: If the balls drawn are (BR) then prob =  0.267\n"
     ]
    }
   ],
   "source": [
    "# Q3. Two balls are drawn at random in succession without replacement from an urn containing 4 red balls and 6 black balls.\n",
    "# Find the probabilities of all the possible outcomes.\n",
    "\n",
    "''''SOLUTION:\n",
    "\n",
    "Total no.of Black Balls = 6\n",
    "Total no.of Red balls = 4\n",
    "Total no.of balls = (6+4) = 10\n",
    "Possible outcomes = (RR),(RB),(BR),(BB)\n",
    "Total possibilities in two turns = 10C2 \n",
    "\n",
    "P1-FIRST POSSIBILITY : Two Red Balls(RR)\n",
    "\n",
    "No.of favourable outcomes = 4C2\n",
    "Total no.of outcomes =10C2\n",
    "\n",
    "P2-SECOND POSSIBILITY : One red and One black ball(RB or BR)\n",
    "\n",
    "No.of favourable outcomes = 4C1*6C1\n",
    "Total no.of outcomes = 10C2\n",
    "\n",
    "P3-THIRD POSSIBILITY : Two Black Balls(BB)\n",
    "\n",
    "No.of favourable outcomes = 6C2\n",
    "Total no.of outcomes = 10C2 '''\n",
    "\n",
    "def nCr(n,r):\n",
    "    f = math.factorial\n",
    "    return f(n) / f(r) / f(n-r)\n",
    "\n",
    "P1 = nCr(4,2)/nCr(10,2)\n",
    "P2 = nCr(4,1)*nCr(6,1)/nCr(10,2)\n",
    "P3 = nCr(6,2)/nCr(10,2)\n",
    "\n",
    "print(\"1: Probability of drawing two Red balls(RR):\",round(P1,3))\n",
    "print(\"2: Probability of drawing one Red and one Black ball(RB or BR):\",round(P2,3))\n",
    "print(\"3: Probability of drawing two Black balls(BB):\",round(P3,3))\n",
    "\n",
    "'''Further,in the second possibilty\n",
    "if the balls drawn are (R,B) then prob = 4/10*6/9 - (Total no.of balls for the second turn becomes 9 as already 1 ball is drawn)\n",
    "if the balls drawn are (B,R) then prob = 6/10*4/9\n",
    "'''\n",
    "P2i = 4/10*6/9\n",
    "P2ii = 6/10*4/9\n",
    "\n",
    "print(\"\\n2.1: If the balls drawn are (RB) then prob = \",round(P2i,3))\n",
    "print(\"2.2: If the balls drawn are (BR) then prob = \",round(P2ii,3))"
   ]
  }
 ],
 "metadata": {
  "kernelspec": {
   "display_name": "Python 3",
   "language": "python",
   "name": "python3"
  },
  "language_info": {
   "codemirror_mode": {
    "name": "ipython",
    "version": 3
   },
   "file_extension": ".py",
   "mimetype": "text/x-python",
   "name": "python",
   "nbconvert_exporter": "python",
   "pygments_lexer": "ipython3",
   "version": "3.6.5"
  }
 },
 "nbformat": 4,
 "nbformat_minor": 2
}
